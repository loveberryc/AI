{
 "cells": [
  {
   "cell_type": "markdown",
   "metadata": {},
   "source": [
    "# Implement SGD for binary classification by using logistic model\n",
    "- Your Name:\n",
    "- Your ID:"
   ]
  },
  {
   "source": [
    "# import necessary modules\n",
    "\n",
    "* numpy for matrix calculation, `pip install numpy`\n",
    "* matplotlib for plot figures, `pip install matplotlib`"
   ],
   "cell_type": "markdown",
   "metadata": {}
  },
  {
   "cell_type": "code",
   "execution_count": null,
   "metadata": {},
   "outputs": [],
   "source": [
    "import numpy as np\n",
    "from matplotlib import pyplot as plt"
   ]
  },
  {
   "source": [
    "# functions for plot"
   ],
   "cell_type": "markdown",
   "metadata": {}
  },
  {
   "cell_type": "code",
   "execution_count": null,
   "metadata": {},
   "outputs": [],
   "source": [
    "from matplotlib import pyplot as plt\n",
    "import numpy as np\n",
    "from mpl_toolkits.mplot3d import Axes3D\n",
    "\n",
    "\n",
    "def plot_fig(w, x, y):\n",
    "    w = w.tolist()[0]\n",
    "    fig = plt.figure()\n",
    "    ax = Axes3D(fig, azim=-80)\n",
    "\n",
    "    x1 = np.linspace(0,1,30)\n",
    "    x2 = np.linspace(0,1,30)\n",
    "    x1, x2 = np.meshgrid(x1, x2)\n",
    "    a = sigmoid(w[0]*x1 + w[1]*x2 + w[2])\n",
    "\n",
    "    ax.plot_surface(x1, x2, a, rstride=1, cstride=1, cmap='rainbow')\n",
    "    ax.scatter(x[0,:],x[1,:],y,)\n",
    "\n",
    "    ax.set_xlabel('x1')\n",
    "    ax.set_ylabel('x2')\n",
    "    ax.set_zlabel('y')\n",
    "    \n",
    "    plt.title(\"model\")\n",
    "    #plt.savefig(\"data-scatter.jpg\")\n",
    "    \n",
    "def plot_decision_line(w, x, y):\n",
    "    print(y)\n",
    "    fig = plt.figure()\n",
    "    w = w.tolist()[0]\n",
    "    xx = np.linspace(0,1,30)\n",
    "    yy = -(w[0]*xx + w[-1])/w[1]\n",
    "    plt.plot(xx, yy,label=\"decision line\")\n",
    "    pos_x = np.array([x[:2,i] for i in range(len(y[0])) if y[0][i] == 1]).transpose()\n",
    "    neg_x = np.array([x[:2,i] for i in range(len(y[0])) if y[0][i] == 0]).transpose()\n",
    "    plt.plot(pos_x[0], pos_x[1], 'rd', label=\"pos\")\n",
    "    plt.plot(neg_x[0], neg_x[1], 'b*', label=\"neg\")\n",
    "    plt.legend()\n",
    "    plt.title(\"decision line\")"
   ]
  },
  {
   "cell_type": "markdown",
   "metadata": {},
   "source": [
    "# prepare dataset D\n",
    "\n",
    "\n",
    "1. load data `x` and `y` from the file `x.npy` and `y.npy`, respectively\n",
    "2. adding bias term `1` to `x`\n"
   ]
  },
  {
   "cell_type": "code",
   "execution_count": null,
   "metadata": {},
   "outputs": [],
   "source": [
    "x = np.load(\"x4.npy\")\n",
    "print(\"original shape of x:{}\".format(x.shape))\n",
    "x = np.concatenate([x, np.ones((1,x.shape[1]))])\n",
    "print(\"new shape of x:{}\".format(x.shape))\n",
    "y = np.load(\"y4.npy\")"
   ]
  },
  {
   "source": [
    "# implement the function below for logistic model\n",
    "\n",
    "$a = \\sigma (wx)$, where\n",
    "\n",
    "- $x \\in R^{3\\times n}$\n",
    "- $w \\in R^{1\\times 3}$\n",
    "- $\\sigma (z) = \\frac{1}{1+e^{-z}}$"
   ],
   "cell_type": "markdown",
   "metadata": {}
  },
  {
   "cell_type": "code",
   "execution_count": null,
   "metadata": {},
   "outputs": [],
   "source": [
    "def sigmoid(z):\n",
    "    #### Your code here ####\n",
    "    a = z\n",
    "    ########################\n",
    "    return a\n",
    "def logisticModel(w, x):\n",
    "    #### Your code here ####\n",
    "    a = np.ones_like(x)\n",
    "    ########################\n",
    "    return a"
   ]
  },
  {
   "source": [
    "# define cost function and accuracy\n",
    "\n",
    "\n",
    "$J= \\frac{1}{m}\\sum_{i=1}^{m}{\\left[y^{i}\\cdot \\log(a^{i})+(1-y^{i})\\cdot \\log(1-a^{i})\\right]}$\n",
    "\n",
    "$\\frac{\\partial J}{\\partial w} = (a-y)x^{T}$\n"
   ],
   "cell_type": "markdown",
   "metadata": {}
  },
  {
   "cell_type": "code",
   "execution_count": null,
   "metadata": {},
   "outputs": [],
   "source": [
    "def cost(a, y):\n",
    "    #### Your code here ####\n",
    "    J = 0.5\n",
    "    ########################\n",
    "    return J\n",
    "\n",
    "def grad(a, x, y):\n",
    "    #### Your code here ####\n",
    "    grad_w = np.random.rand(1,3)\n",
    "    ########################\n",
    "    return grad_w\n",
    "    \n",
    "def accuarcy(a, y, tao=0.5):\n",
    "    #### Your code here ####\n",
    "    acc = 0.5\n",
    "    ########################\n",
    "    return acc\n",
    "\n"
   ]
  },
  {
   "cell_type": "markdown",
   "metadata": {},
   "source": [
    "# gradient descent algorithm"
   ]
  },
  {
   "cell_type": "code",
   "execution_count": null,
   "metadata": {},
   "outputs": [],
   "source": [
    "w = np.random.rand(1,3)\n",
    "\n",
    "alpha = 0.01\n",
    "Js = []\n",
    "accs = []\n",
    "\n",
    "for i in range(2000):\n",
    "    a = logisticModel(w, x)\n",
    "    grad_w = grad(a, x, y)\n",
    "    w = w - alpha * grad_w\n",
    "    Js.append(cost(a, y))\n",
    "    accs.append(accuarcy(a, y))\n",
    "\n",
    "plt.plot(Js,'r-*',label=\"cost\")\n",
    "plt.plot(accs,'b-',label=\"accuracy\")\n",
    "plt.legend()\n",
    "plt.savefig(\"cost.jpg\")\n",
    "print(\"-\"*40)\n",
    "print(\"gradient descent method: w={}\".format(w))\n",
    "print(\"-\"*40)    \n",
    "    \n",
    "plot_fig(w, x, y)\n",
    "\n",
    "plot_decision_line(w, x, y)"
   ]
  },
  {
   "cell_type": "code",
   "execution_count": null,
   "metadata": {},
   "outputs": [],
   "source": []
  }
 ],
 "metadata": {
  "kernelspec": {
   "name": "python3",
   "display_name": "Python 3.9.2 64-bit",
   "metadata": {
    "interpreter": {
     "hash": "14da386a6e18213291816d02815fd85819b117a8cdf1629134f14b53ba124c27"
    }
   }
  },
  "language_info": {
   "codemirror_mode": {
    "name": "ipython",
    "version": 3
   },
   "file_extension": ".py",
   "mimetype": "text/x-python",
   "name": "python",
   "nbconvert_exporter": "python",
   "pygments_lexer": "ipython3",
   "version": "3.9.2"
  }
 },
 "nbformat": 4,
 "nbformat_minor": 4
}